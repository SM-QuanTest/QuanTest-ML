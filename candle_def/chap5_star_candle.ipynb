{
  "nbformat": 4,
  "nbformat_minor": 0,
  "metadata": {
    "colab": {
      "provenance": []
    },
    "kernelspec": {
      "name": "python3",
      "display_name": "Python 3"
    },
    "language_info": {
      "name": "python"
    }
  },
  "cells": [
    {
      "cell_type": "code",
      "source": [
        "from google.colab import drive\n",
        "drive.mount('/content/drive')"
      ],
      "metadata": {
        "colab": {
          "base_uri": "https://localhost:8080/"
        },
        "id": "ASi9lGbVmfFn",
        "outputId": "26dde877-9e9b-4056-b6e5-e5000b2c5f78"
      },
      "execution_count": null,
      "outputs": [
        {
          "output_type": "stream",
          "name": "stdout",
          "text": [
            "Drive already mounted at /content/drive; to attempt to forcibly remount, call drive.mount(\"/content/drive\", force_remount=True).\n"
          ]
        }
      ]
    },
    {
      "cell_type": "code",
      "source": [
        "import pandas as pd"
      ],
      "metadata": {
        "id": "4vWiAwJunl4v"
      },
      "execution_count": null,
      "outputs": []
    },
    {
      "cell_type": "markdown",
      "source": [
        "# 5장 별형\n",
        "* 샛별형\n",
        "* 저녁별형\n",
        "* 도지별형\n",
        "* 유성형"
      ],
      "metadata": {
        "id": "RazKy60BwGZX"
      }
    },
    {
      "cell_type": "code",
      "source": [
        "df=pd.read_csv('/content/drive/MyDrive/A000250.csv')"
      ],
      "metadata": {
        "id": "VVYPWLIvsqGc"
      },
      "execution_count": null,
      "outputs": []
    },
    {
      "cell_type": "code",
      "source": [
        "#샛별형 (하락추세 이후에 나타남)\n",
        "\n",
        "'''\n",
        "세 개의 캔들이 있음.\n",
        "하락추세 - 이미 구현해둔 하락추세 사용\n",
        "첫 번째 캔들 - 장대 음봉.(시가보다 종가가 크게 낮을 때 -> 종가가 시가보다 3% 이상 하락하는 경우로 정의)\n",
        "두 번째 캔들 - 몸통이 앞의 음봉 몸통에 닿지 않는다.몸통이 작다(이미 구현해둔 small_body 정의 따름). 양/음봉상관없음\n",
        "세 번째 캔들 - 첫 번째 캔들의 몸통 안으로 깊숙이 파고드는 양봉 -> 깊숙이 기준 0.5%로 정의\n",
        "'''\n",
        "\n",
        "\n",
        "def is_morning_star(df):\n",
        "    downtrend = is_downtrend(df).shift(2).fillna(False)\n",
        "\n",
        "    o = df['시가']\n",
        "    h = df['고가']\n",
        "    l = df['저가']\n",
        "    c = df['종가']\n",
        "    body = (o - c).abs()\n",
        "\n",
        "\n",
        "    # 1일 전, 2일 전 값\n",
        "    o1, o2 = o.shift(1), o.shift(2)\n",
        "    c1, c2 = c.shift(1), c.shift(2)\n",
        "    h1, h2 = h.shift(1), h.shift(2)\n",
        "    l1, l2 = l.shift(1), l.shift(2)\n",
        "    body_1, body_2 = body.shift(1), body.shift(2)\n",
        "\n",
        "    #첫 번째 캔들\n",
        "    first_bearish = c2 < o2\n",
        "    first_long = ((o2 - c2) / o2) >= 0.03\n",
        "    cond1 = (first_bearish & first_long).fillna(False)\n",
        "    #두 번째 캔들\n",
        "    second_small_body = body_1 < (h1 - l1) * 0.3\n",
        "    #둘째 날 몸통의 상단이 첫째 날 몸통의 하단보다 밑에 있어야 함\n",
        "    top_body_1 = pd.concat([o1, c1], axis=1).max(axis=1)\n",
        "    bottom_body_2 = pd.concat([o2, c2], axis=1).min(axis=1)\n",
        "    second_gap   = top_body_1 < bottom_body_2\n",
        "    cond2 = (second_small_body & second_gap).fillna(False)\n",
        "\n",
        "    #세 번째 캔들\n",
        "    third_bullish = c > o\n",
        "    third_penetration = (c - c2) / (o2 - c2) >= 0.5\n",
        "    cond3 = (third_bullish & third_penetration).fillna(False)\n",
        "\n",
        "\n",
        "    return (downtrend&cond1&cond2&cond3).fillna(False)\n"
      ],
      "metadata": {
        "id": "9Im-q5wYy-Ts"
      },
      "execution_count": null,
      "outputs": []
    },
    {
      "cell_type": "code",
      "source": [
        "df[\"샛별형\"] = is_morning_star(df).astype(int)\n",
        "print(df[df[\"샛별형\"] == 1])\n",
        "print(df)\n",
        "#샛별형 없음"
      ],
      "metadata": {
        "colab": {
          "base_uri": "https://localhost:8080/"
        },
        "id": "mQHPgZxZ6bKc",
        "outputId": "53e96ea4-edaa-431e-88a8-e22d625e7494"
      },
      "execution_count": null,
      "outputs": [
        {
          "output_type": "stream",
          "name": "stdout",
          "text": [
            "Empty DataFrame\n",
            "Columns: [날짜, 시가, 고가, 저가, 종가, 거래량, 샛별형]\n",
            "Index: []\n",
            "            날짜      시가      고가      저가      종가      거래량  샛별형\n",
            "0     20250414  157000  157000  150700  154000   233689    0\n",
            "1     20250411  152200  162900  150500  157200   282408    0\n",
            "2     20250410  156000  159300  151500  156600   326907    0\n",
            "3     20250409  164200  169200  145100  146400   707729    0\n",
            "4     20250408  185000  189300  157900  166800  1059177    0\n",
            "...        ...     ...     ...     ...     ...      ...  ...\n",
            "2452  20150420   12800   13300   12600   13000   627492    0\n",
            "2453  20150417   13500   13850   12900   12900  2747398    0\n",
            "2454  20150416   12250   12400   12100   12300   231163    0\n",
            "2455  20150415   12350   12450   12000   12150   348865    0\n",
            "2456  20150414   12800   13100   11850   12200   690688    0\n",
            "\n",
            "[2457 rows x 7 columns]\n"
          ]
        },
        {
          "output_type": "stream",
          "name": "stderr",
          "text": [
            "/tmp/ipython-input-28-3819381928.py:13: FutureWarning: Downcasting object dtype arrays on .fillna, .ffill, .bfill is deprecated and will change in a future version. Call result.infer_objects(copy=False) instead. To opt-in to the future behavior, set `pd.set_option('future.no_silent_downcasting', True)`\n",
            "  downtrend = is_downtrend(df).shift(1).fillna(False)\n"
          ]
        }
      ]
    },
    {
      "cell_type": "code",
      "source": [
        "# 앞뒤내역 찾아보기\n",
        "# 원본 마스크\n",
        "mask = df['샛별형'] == 1\n",
        "\n",
        "# 앞뒤 2행까지 확장된 마스크\n",
        "mask_ext = (\n",
        "    mask\n",
        "    | mask.shift(1).fillna(False)\n",
        "    | mask.shift(2).fillna(False)\n",
        "    | mask.shift(-1).fillna(False)\n",
        "    | mask.shift(-2).fillna(False)\n",
        ")\n",
        "\n",
        "# 출력\n",
        "print(df[mask_ext])\n"
      ],
      "metadata": {
        "colab": {
          "base_uri": "https://localhost:8080/"
        },
        "id": "7LQd9RUqH2ZN",
        "outputId": "82ef88de-cf97-433f-c6d1-383878e8f92e"
      },
      "execution_count": null,
      "outputs": [
        {
          "output_type": "stream",
          "name": "stdout",
          "text": [
            "Empty DataFrame\n",
            "Columns: [날짜, 시가, 고가, 저가, 종가, 거래량, 샛별형]\n",
            "Index: []\n"
          ]
        },
        {
          "output_type": "stream",
          "name": "stderr",
          "text": [
            "/tmp/ipython-input-30-812351262.py:7: FutureWarning: Downcasting object dtype arrays on .fillna, .ffill, .bfill is deprecated and will change in a future version. Call result.infer_objects(copy=False) instead. To opt-in to the future behavior, set `pd.set_option('future.no_silent_downcasting', True)`\n",
            "  | mask.shift(1).fillna(False)\n",
            "/tmp/ipython-input-30-812351262.py:8: FutureWarning: Downcasting object dtype arrays on .fillna, .ffill, .bfill is deprecated and will change in a future version. Call result.infer_objects(copy=False) instead. To opt-in to the future behavior, set `pd.set_option('future.no_silent_downcasting', True)`\n",
            "  | mask.shift(2).fillna(False)\n",
            "/tmp/ipython-input-30-812351262.py:9: FutureWarning: Downcasting object dtype arrays on .fillna, .ffill, .bfill is deprecated and will change in a future version. Call result.infer_objects(copy=False) instead. To opt-in to the future behavior, set `pd.set_option('future.no_silent_downcasting', True)`\n",
            "  | mask.shift(-1).fillna(False)\n",
            "/tmp/ipython-input-30-812351262.py:10: FutureWarning: Downcasting object dtype arrays on .fillna, .ffill, .bfill is deprecated and will change in a future version. Call result.infer_objects(copy=False) instead. To opt-in to the future behavior, set `pd.set_option('future.no_silent_downcasting', True)`\n",
            "  | mask.shift(-2).fillna(False)\n"
          ]
        }
      ]
    },
    {
      "cell_type": "code",
      "source": [
        "#저녁별형 (상승추세 이후에 나타남)\n",
        "\n",
        "'''\n",
        "세 개의 캔들이 있음.\n",
        "상승추세 - 이미 구현해둔 상승추세 사용\n",
        "첫 번째 캔들 - 장대 양봉.(시가보다 종가가 크게 높을 때 -> 종가가 시가보다 3% 이상 상승하는 경우로 정의)\n",
        "두 번째 캔들 - 몸통이 앞의 양봉 몸통에 닿지 않는다.몸통이 작다(이미 구현해둔 small_body 사용) 양/음봉상관없음\n",
        "세 번째 캔들 - 첫 번째 캔들의 몸통 안으로 깊숙이 파고드는 음봉 -> 깊숙이 기준 0.5%로 정의\n",
        "'''\n",
        "\n",
        "def evening_star(df):\n",
        "    uptrend = is_uptrend(df).shift(2).fillna(False)\n",
        "\n",
        "    o = df['시가']\n",
        "    h = df['고가']\n",
        "    l = df['저가']\n",
        "    c = df['종가']\n",
        "    body = (o - c).abs()\n",
        "\n",
        "\n",
        "    # 1일 전, 2일 전 값\n",
        "    o1, o2 = o.shift(1), o.shift(2)\n",
        "    c1, c2 = c.shift(1), c.shift(2)\n",
        "    h1, h2 = h.shift(1), h.shift(2)\n",
        "    l1, l2 = l.shift(1), l.shift(2)\n",
        "    body_1, body_2 = body.shift(1), body.shift(2)\n",
        "\n",
        "    #첫 번째 캔들\n",
        "    first_bullish = c2 > o2\n",
        "    first_long = ((c2 - o2) / o2) >= 0.03\n",
        "    cond1 = (first_bullish & first_long).fillna(False)\n",
        "\n",
        "    #두 번째 캔들\n",
        "    second_small_body = body_1 < (h1 - l1) * 0.3\n",
        "    #둘째 날 몸통의 하단이 첫째 날 몸통의 상단보다 위에 있어야 함\n",
        "    bottom_body_1 = pd.concat([o1, c1], axis=1).min(axis=1)\n",
        "    top_body_2 = pd.concat([o2, c2], axis=1).max(axis=1)\n",
        "    second_gap   = bottom_body_1 > top_body_2\n",
        "    cond2 = (second_small_body & second_gap).fillna(False)\n",
        "\n",
        "    #세 번째 캔들\n",
        "    third_bullish = c < o\n",
        "    third_penetration = (c2 - c) / (c2 - o2) >= 0.5\n",
        "    cond3 = (third_bullish & third_penetration).fillna(False)\n",
        "\n",
        "\n",
        "    return (uptrend&cond1&cond2&cond3).fillna(False)\n"
      ],
      "metadata": {
        "id": "aRsi9DWsexkU"
      },
      "execution_count": null,
      "outputs": []
    },
    {
      "cell_type": "code",
      "source": [
        "#십자샛별형 (하락추세 이후에 나타남)\n",
        "\n",
        "'''\n",
        "샛별형 중 두 번째 캔들이 도지인 경우 (전체 캔들 폭의 10% 이하인 경우로 정의)\n",
        "'''\n",
        "\n",
        "def is_morning_doji_star(df):\n",
        "    downtrend = is_downtrend(df).shift(2).fillna(False)\n",
        "\n",
        "    o = df['시가']\n",
        "    h = df['고가']\n",
        "    l = df['저가']\n",
        "    c = df['종가']\n",
        "    body = (o - c).abs()\n",
        "\n",
        "\n",
        "    # 1일 전, 2일 전 값\n",
        "    o1, o2 = o.shift(1), o.shift(2)\n",
        "    c1, c2 = c.shift(1), c.shift(2)\n",
        "    h1, h2 = h.shift(1), h.shift(2)\n",
        "    l1, l2 = l.shift(1), l.shift(2)\n",
        "    body_1, body_2 = body.shift(1), body.shift(2)\n",
        "\n",
        "    #첫 번째 캔들\n",
        "    first_bearish = c2 < o2\n",
        "    first_long = ((o2 - c2) / o2) >= 0.03\n",
        "    cond1 = (first_bearish & first_long).fillna(False)\n",
        "\n",
        "    #두 번째 캔들\n",
        "    second_doji_body = body_1 < (h1 - l1) * 0.1\n",
        "    #둘째 날 몸통의 상단이 첫째 날 몸통의 하단보다 밑에 있어야 함\n",
        "    top_body_1 = pd.concat([o1, c1], axis=1).max(axis=1)\n",
        "    bottom_body_2 = pd.concat([o2, c2], axis=1).min(axis=1)\n",
        "    second_gap   = top_body_1 < bottom_body_2\n",
        "    cond2 = (second_doji_body & second_gap).fillna(False)\n",
        "\n",
        "    #세 번째 캔들\n",
        "    third_bullish = c > o\n",
        "    third_penetration = (c - c2) / (o2 - c2) >= 0.5\n",
        "    cond3 = (third_bullish & third_penetration).fillna(False)\n",
        "\n",
        "\n",
        "    return (downtrend&cond1&cond2&cond3).fillna(False)\n"
      ],
      "metadata": {
        "id": "tRtVpMS6nIrx"
      },
      "execution_count": null,
      "outputs": []
    },
    {
      "cell_type": "code",
      "source": [
        "#십자저녁별형 (상승추세 이후에 나타남)\n",
        "\n",
        "'''\n",
        "저녁별형 중 두 번째 캔들이 도지인 경우 (전체 캔들 폭의 10% 이하인 경우로 정의)\n",
        "\n",
        "'''\n",
        "\n",
        "def is_evening_doji_star(df):\n",
        "    uptrend = is_uptrend(df).shift(2).fillna(False)\n",
        "\n",
        "    o = df['시가']\n",
        "    h = df['고가']\n",
        "    l = df['저가']\n",
        "    c = df['종가']\n",
        "    body = (o - c).abs()\n",
        "\n",
        "    # 1일 전, 2일 전 값\n",
        "    o1, o2 = o.shift(1), o.shift(2)\n",
        "    c1, c2 = c.shift(1), c.shift(2)\n",
        "    h1, h2 = h.shift(1), h.shift(2)\n",
        "    l1, l2 = l.shift(1), l.shift(2)\n",
        "    body_1, body_2 = body.shift(1), body.shift(2)\n",
        "\n",
        "    #첫 번째 캔들\n",
        "    first_bullish = c2 > o2\n",
        "    first_long = ((c2 - o2) / o2) >= 0.03\n",
        "    cond1 = (first_bullish & first_long).fillna(False)\n",
        "\n",
        "    #두 번째 캔들\n",
        "    second_doji_body = body_1 < (h1 - l1) * 0.1\n",
        "    #둘째 날 몸통의 하단이 첫째 날 몸통의 상단보다 위에 있어야 함\n",
        "    bottom_body_1 = pd.concat([o1, c1], axis=1).min(axis=1)\n",
        "    top_body_2 = pd.concat([o2, c2], axis=1).max(axis=1)\n",
        "    second_gap   = bottom_body_1 > top_body_2\n",
        "    cond2 = (second_doji_body & second_gap).fillna(False)\n",
        "\n",
        "    #세 번째 캔들\n",
        "    third_bullish = c < o\n",
        "    third_penetration = (c2 - c) / (c2 - o2) >= 0.5\n",
        "    cond3 = (third_bullish & third_penetration).fillna(False)\n",
        "\n",
        "\n",
        "    return (uptrend&cond1&cond2&cond3).fillna(False)\n"
      ],
      "metadata": {
        "id": "IltU3OEPq5h6"
      },
      "execution_count": null,
      "outputs": []
    },
    {
      "cell_type": "code",
      "source": [
        "#유성형(하락반전)\n",
        "\n",
        "'''\n",
        "주가상승 마지막에 출현\n",
        "하나의 캔들\n",
        "1. 몸통이 작다, 몸통의 색깔은 중요하지 않다\n",
        "2. 윗그림자가 길다\n",
        "3. 아랫그림자가 거의 없다\n",
        "\n",
        "\n",
        "'''\n",
        "\n",
        "def is_shooting_star(df):\n",
        "    uptrend = is_uptrend(df).shift(1).fillna(False)\n",
        "\n",
        "    o = df['시가']\n",
        "    h = df['고가']\n",
        "    l = df['저가']\n",
        "    c = df['종가']\n",
        "    body = (o - c).abs()\n",
        "\n",
        "    # 작은몸통\n",
        "    small_body = body < (h - l) * 0.3\n",
        "\n",
        "    # 긴 윗그림자\n",
        "    higher_shadow = h - pd.concat([o, c], axis=1).max(axis=1)\n",
        "    long_upper_tail = higher_shadow > 2 * body\n",
        "\n",
        "    # 거의 없는 아랫그림자\n",
        "    lower_shadow = pd.concat([o, c], axis=1).min(axis=1) - l\n",
        "    thin_lower = lower_shadow < 0.1 * body\n",
        "\n",
        "\n",
        "    return (uptrend&small_body&long_upper_tail&thin_lower).fillna(False)\n"
      ],
      "metadata": {
        "id": "cbM5Lj2LrPLk"
      },
      "execution_count": null,
      "outputs": []
    },
    {
      "cell_type": "code",
      "source": [
        "#역망치형(상승반전)\n",
        "\n",
        "'''\n",
        "하락세 마지막에 출현\n",
        "하나의 캔들\n",
        "1. 몸통이 작다, 몸통의 색깔은 중요하지 않다\n",
        "2. 윗그림자가 길다\n",
        "3. 아랫그림자가 거의 없다\n",
        "'''\n",
        "\n",
        "def is_inverted_hammer(df):\n",
        "    downtrend = is_downtrend(df).shift(1).fillna(False)\n",
        "\n",
        "    o = df['시가']\n",
        "    h = df['고가']\n",
        "    l = df['저가']\n",
        "    c = df['종가']\n",
        "    body = (o - c).abs()\n",
        "\n",
        "    # 작은몸통\n",
        "    small_body = body < (h - l) * 0.3\n",
        "\n",
        "    # 긴 윗그림자\n",
        "    higher_shadow = h - pd.concat([o, c], axis=1).max(axis=1)\n",
        "    long_upper_tail = higher_shadow > 2 * body\n",
        "\n",
        "    # 거의 없는 아랫그림자\n",
        "    lower_shadow = pd.concat([o, c], axis=1).min(axis=1) - l\n",
        "    thin_lower = lower_shadow < 0.1 * body\n",
        "\n",
        "\n",
        "    return (downtrend&small_body&long_upper_tail&thin_lower).fillna(False)\n"
      ],
      "metadata": {
        "id": "J3WIcvBgCYTl"
      },
      "execution_count": null,
      "outputs": []
    }
  ]
}